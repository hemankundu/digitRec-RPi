{
 "cells": [
  {
   "cell_type": "code",
   "execution_count": 15,
   "metadata": {},
   "outputs": [
    {
     "data": {
      "image/png": "[encoded data removed]",
      "text/plain": [
       "<Figure size 432x288 with 1 Axes>"
      ]
     },
     "metadata": {
      "needs_background": "light"
     },
     "output_type": "display_data"
    }
   ],
   "source": [
    "import tensorflow as tf\n",
    "import keras\n",
    "import pickle\n",
    "import gzip\n",
    "import numpy as np\n",
    "import matplotlib.pyplot as plt\n",
    "from keras.models import Sequential\n",
    "from keras.layers import Conv2D, MaxPooling2D, Flatten, Dense\n",
    "from keras.layers.normalization import BatchNormalization\n",
    "import cv2\n",
    "\n",
    "#load dataset\n",
    "with gzip.open('mnist.pkl.gz', 'rb') as data:\n",
    "    (train_x, train_y), (valid_x, valid_y), (test_x, test_y) = pickle.load(data, encoding='latin1')\n",
    "train_x = train_x.reshape(train_x.shape[0], 28, 28, 1)\n",
    "test_x = test_x.reshape(test_x.shape[0], 28, 28, 1)\n",
    "plt.imshow(train_x[6].reshape(28, 28))\n",
    "cv2.imwrite('sample.png', cv2.bitwise_not(train_x[6].reshape(28, 28)))\n",
    "train_x = tf.keras.utils.normalize(train_x, axis=0)\n",
    "test_x = tf.keras.utils.normalize(test_x, axis=0)\n",
    "img_w = 28; img_h = 28"
   ]
  },
  {
   "cell_type": "code",
   "execution_count": 55,
   "metadata": {
    "collapsed": true
   },
   "outputs": [
    {
     "name": "stdout",
     "output_type": "stream",
     "text": [
      "_________________________________________________________________\n",
      "Layer (type)                 Output Shape              Param #   \n",
      "=================================================================\n",
      "conv2d_39 (Conv2D)           (None, 24, 24, 16)        416       \n",
      "_________________________________________________________________\n",
      "max_pooling2d_39 (MaxPooling (None, 12, 12, 16)        0         \n",
      "_________________________________________________________________\n",
      "conv2d_40 (Conv2D)           (None, 10, 10, 32)        4640      \n",
      "_________________________________________________________________\n",
      "max_pooling2d_40 (MaxPooling (None, 5, 5, 32)          0         \n",
      "_________________________________________________________________\n",
      "flatten_19 (Flatten)         (None, 800)               0         \n",
      "_________________________________________________________________\n",
      "dense_37 (Dense)             (None, 1000)              801000    \n",
      "_________________________________________________________________\n",
      "dense_38 (Dense)             (None, 10)                10010     \n",
      "=================================================================\n",
      "Total params: 816,066\n",
      "Trainable params: 816,066\n",
      "Non-trainable params: 0\n",
      "_________________________________________________________________\n"
     ]
    }
   ],
   "source": [
    "#model begin\n",
    "\n",
    "model = Sequential()\n",
    "\n",
    "model.add(Conv2D(16, (5, 5), activation='relu', input_shape=(img_w, img_h, 1)))\n",
    "model.add(MaxPooling2D(2, 2))\n",
    "\n",
    "model.add(Conv2D(32, (3, 3), activation='relu'))\n",
    "model.add(MaxPooling2D(2, 2))\n",
    "\n",
    "model.add(Flatten())\n",
    "model.add(Dense(1000, activation='relu'))\n",
    "\n",
    "model.add(Dense(10, activation='softmax'))\n",
    "\n",
    "#model end\n",
    "\n",
    "model.summary()\n",
    "model_json = model.to_json()\n",
    "with open(\"model.json\", \"w\") as json_file:\n",
    "    json_file.write(model_json)"
   ]
  },
  {
   "cell_type": "code",
   "execution_count": 56,
   "metadata": {
    "collapsed": true
   },
   "outputs": [
    {
     "name": "stdout",
     "output_type": "stream",
     "text": [
      "Epoch 1/3\n",
      "50000/50000 [==============================] - 31s 618us/step - loss: 0.3688 - acc: 0.8839\n",
      "Epoch 2/3\n",
      "50000/50000 [==============================] - 31s 613us/step - loss: 0.0951 - acc: 0.9704\n",
      "Epoch 3/3\n",
      "50000/50000 [==============================] - 31s 615us/step - loss: 0.0615 - acc: 0.9806\n"
     ]
    },
    {
     "data": {
      "text/plain": [
       "<keras.callbacks.History at 0x7fb4f2416550>"
      ]
     },
     "execution_count": 56,
     "metadata": {},
     "output_type": "execute_result"
    }
   ],
   "source": [
    "#compile\n",
    "model.compile(loss='sparse_categorical_crossentropy',\n",
    "              optimizer='adam',\n",
    "              metrics=['accuracy'])\n",
    "model.fit(train_x, train_y, epochs=3)"
   ]
  },
  {
   "cell_type": "code",
   "execution_count": 57,
   "metadata": {},
   "outputs": [],
   "source": [
    "model.save_weights('model.h5')"
   ]
  },
  {
   "cell_type": "code",
   "execution_count": null,
   "metadata": {},
   "outputs": [],
   "source": []
  }
 ],
 "metadata": {
  "kernelspec": {
   "display_name": "Python 3",
   "language": "python",
   "name": "python3"
  },
  "language_info": {
   "codemirror_mode": {
    "name": "ipython",
    "version": 3
   },
   "file_extension": ".py",
   "mimetype": "text/x-python",
   "name": "python",
   "nbconvert_exporter": "python",
   "pygments_lexer": "ipython3",
   "version": "3.7.1"
  }
 },
 "nbformat": 4,
 "nbformat_minor": 2
}
